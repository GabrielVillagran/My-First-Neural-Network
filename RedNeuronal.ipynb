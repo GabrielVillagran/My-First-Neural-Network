{
  "nbformat": 4,
  "nbformat_minor": 0,
  "metadata": {
    "colab": {
      "name": "RedNeuronal.ipynb",
      "provenance": [],
      "authorship_tag": "ABX9TyMdUUyfFcdu5YnLJLmFuyjc",
      "include_colab_link": true
    },
    "kernelspec": {
      "name": "python3",
      "display_name": "Python 3"
    },
    "language_info": {
      "name": "python"
    }
  },
  "cells": [
    {
      "cell_type": "markdown",
      "metadata": {
        "id": "view-in-github",
        "colab_type": "text"
      },
      "source": [
        "<a href=\"https://colab.research.google.com/github/Villagran29A/My-First-Neural-Network/blob/main/RedNeuronal.ipynb\" target=\"_parent\"><img src=\"https://colab.research.google.com/assets/colab-badge.svg\" alt=\"Open In Colab\"/></a>"
      ]
    },
    {
      "cell_type": "markdown",
      "metadata": {
        "id": "q7qTdKqhLDCp"
      },
      "source": [
        "Agregar las bibliotecas necesarias para la red neuronal"
      ]
    },
    {
      "cell_type": "code",
      "metadata": {
        "id": "UKn9ZtrAGxne"
      },
      "source": [
        "import tensorflow as tf\n",
        "import numpy as np"
      ],
      "execution_count": 1,
      "outputs": []
    },
    {
      "cell_type": "markdown",
      "metadata": {
        "id": "5ow81dpGLy1d"
      },
      "source": [
        "Ejemplos de entradas y salidas que tomara la red neuronal como base para entrenar"
      ]
    },
    {
      "cell_type": "code",
      "metadata": {
        "id": "l9v2Rw49LMxT"
      },
      "source": [
        "celsius = np.array([-40, -10, 0, 8, 15, 22, 38], dtype = float)\n",
        "fahrenheit = np.array([-40, 14, 32, 46, 59, 72, 100], dtype = float)"
      ],
      "execution_count": 2,
      "outputs": []
    },
    {
      "cell_type": "markdown",
      "metadata": {
        "id": "7IIth_uOMBJO"
      },
      "source": [
        "Creacion de la red neuronal"
      ]
    },
    {
      "cell_type": "code",
      "metadata": {
        "id": "TjZoRVmSMD6s"
      },
      "source": [
        "#capa = tf.keras.layers.Dense(units = 1, input_shape= [1])\n",
        "#modelo = tf.keras.Sequential([capa])\n",
        "#Agregacion de mas neuronas (capas)\n",
        "oculta1 = tf.keras.layers.Dense(units = 3, input_shape = ([1]))\n",
        "oculta2 = tf.keras.layers.Dense(units = 3)\n",
        "salida = tf.keras.layers.Dense(units = 1)\n",
        "modelo = tf.keras.Sequential([oculta1, oculta2, salida])"
      ],
      "execution_count": 14,
      "outputs": []
    },
    {
      "cell_type": "code",
      "metadata": {
        "colab": {
          "base_uri": "https://localhost:8080/"
        },
        "id": "umDuTAM3NzvN",
        "outputId": "3dd44b39-01bf-4f5d-e872-459546624c2d"
      },
      "source": [
        "modelo.compile(\n",
        "    optimizer = tf.keras.optimizers.Adam(0.1),\n",
        "    loss = 'mean_squared_error'\n",
        ")\n",
        "\n",
        "print(\"Comenzando entrenamiento...\")\n",
        "historial = modelo.fit(celsius, fahrenheit, epochs = 1000, verbose = False)\n",
        "print(\"Modelo entrenado\")"
      ],
      "execution_count": 15,
      "outputs": [
        {
          "output_type": "stream",
          "text": [
            "Comenzando entrenamiento...\n",
            "Modelo entrenado\n"
          ],
          "name": "stdout"
        }
      ]
    },
    {
      "cell_type": "markdown",
      "metadata": {
        "id": "tnVqbajzOYn2"
      },
      "source": [
        "Mostrar la perdida del entrenamiento"
      ]
    },
    {
      "cell_type": "code",
      "metadata": {
        "colab": {
          "base_uri": "https://localhost:8080/",
          "height": 296
        },
        "id": "8kNAxjqNOc5S",
        "outputId": "58faf656-fcc5-4412-b01c-462b9b9e581a"
      },
      "source": [
        "import matplotlib.pyplot as plt\n",
        "plt.xlabel(\"# Epoca\")\n",
        "plt.ylabel(\"Magnitud de perdida\")\n",
        "plt.plot(historial.history[\"loss\"])"
      ],
      "execution_count": 16,
      "outputs": [
        {
          "output_type": "execute_result",
          "data": {
            "text/plain": [
              "[<matplotlib.lines.Line2D at 0x7ffb81b6bb90>]"
            ]
          },
          "metadata": {
            "tags": []
          },
          "execution_count": 16
        },
        {
          "output_type": "display_data",
          "data": {
            "image/png": "[encoded data removed]",
            "text/plain": [
              "<Figure size 432x288 with 1 Axes>"
            ]
          },
          "metadata": {
            "tags": [],
            "needs_background": "light"
          }
        }
      ]
    },
    {
      "cell_type": "code",
      "metadata": {
        "colab": {
          "base_uri": "https://localhost:8080/"
        },
        "id": "Vbbnh8lvPc_A",
        "outputId": "038ccd6f-801d-4f0b-ab36-281401c6f767"
      },
      "source": [
        "print (\"Hagamos una prediccion:)\")\n",
        "resultado = modelo.predict([100.0])\n",
        "print(\"el resultado es \" + str(resultado) + \"fahrenheit\")"
      ],
      "execution_count": 17,
      "outputs": [
        {
          "output_type": "stream",
          "text": [
            "Hagamos una prediccion:)\n",
            "el resultado es [[211.74753]]fahrenheit\n"
          ],
          "name": "stdout"
        }
      ]
    }
  ]
}